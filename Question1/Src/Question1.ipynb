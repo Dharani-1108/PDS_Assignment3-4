{
  "nbformat": 4,
  "nbformat_minor": 0,
  "metadata": {
    "colab": {
      "provenance": []
    },
    "kernelspec": {
      "name": "python3",
      "display_name": "Python 3"
    },
    "language_info": {
      "name": "python"
    }
  },
  "cells": [
    {
      "cell_type": "markdown",
      "source": [
        "#Acess the data in json format from Open source api"
      ],
      "metadata": {
        "id": "TJ4Ub8vFrUFt"
      }
    },
    {
      "cell_type": "code",
      "execution_count": 19,
      "metadata": {
        "colab": {
          "base_uri": "https://localhost:8080/"
        },
        "id": "Xnuv9ob7dDUV",
        "outputId": "d434bc97-7d4f-43e3-d3d4-bad91dc80894"
      },
      "outputs": [
        {
          "output_type": "stream",
          "name": "stdout",
          "text": [
            "{'result': {'id': '62330151663', 'username': 'ey_ummat', 'is_private': False, 'profile_pic_url': 'https://instagram.fkul8-2.fna.fbcdn.net/v/t51.2885-19/394282560_977468726647810_7186287701712237634_n.jpg?stp=dst-jpg_s150x150&_nc_ht=instagram.fkul8-2.fna.fbcdn.net&_nc_cat=110&_nc_ohc=8pZ_wTgAqtsAb4E5WuF&edm=AOQ1c0wBAAAA&ccb=7-5&oh=00_AfBtMJp-XWbSgTHtRKOuDEKj-TVWuo7kpVhv2Zi2QotxrQ&oe=6624F7C8&_nc_sid=8b3546', 'biography': '#Bismilla', 'full_name': 'Ey Ummat', 'edge_owner_to_timeline_media': {'count': 32}, 'edge_followed_by': {'count': 1467}, 'edge_follow': {'count': 12}, 'profile_pic_url_signature': {'expires': 1713320204, 'signature': 'B_XFcLS4x-s3xGQjWyQKpQ'}}}\n"
          ]
        }
      ],
      "source": [
        "import requests\n",
        "\n",
        "url = \"https://instagram-api38.p.rapidapi.com/\"\n",
        "\n",
        "querystring = {\"username\":\"Ey_ummat\"}\n",
        "\n",
        "headers = {\n",
        "\t\"X-RapidAPI-Key\": \"a78e86efd1msh3d4cf9ac53fcc1ap1897b3jsn6118fbd7b2e9\",\n",
        "\t\"X-RapidAPI-Host\": \"instagram-api38.p.rapidapi.com\"\n",
        "}\n",
        "\n",
        "response = requests.get(url, headers=headers, params=querystring)\n",
        "\n",
        "print(response.json())"
      ]
    },
    {
      "cell_type": "markdown",
      "source": [
        "#Install Dash"
      ],
      "metadata": {
        "id": "UGfqiZAHr1Dj"
      }
    },
    {
      "cell_type": "code",
      "source": [
        "pip install dash"
      ],
      "metadata": {
        "colab": {
          "base_uri": "https://localhost:8080/"
        },
        "id": "G-t3TUhamEfZ",
        "outputId": "a1b1456d-68f0-4d0e-b292-777cb9831bc2"
      },
      "execution_count": 20,
      "outputs": [
        {
          "output_type": "stream",
          "name": "stdout",
          "text": [
            "Requirement already satisfied: dash in /usr/local/lib/python3.10/dist-packages (2.16.1)\n",
            "Requirement already satisfied: Flask<3.1,>=1.0.4 in /usr/local/lib/python3.10/dist-packages (from dash) (2.2.5)\n",
            "Requirement already satisfied: Werkzeug<3.1 in /usr/local/lib/python3.10/dist-packages (from dash) (3.0.2)\n",
            "Requirement already satisfied: plotly>=5.0.0 in /usr/local/lib/python3.10/dist-packages (from dash) (5.15.0)\n",
            "Requirement already satisfied: dash-html-components==2.0.0 in /usr/local/lib/python3.10/dist-packages (from dash) (2.0.0)\n",
            "Requirement already satisfied: dash-core-components==2.0.0 in /usr/local/lib/python3.10/dist-packages (from dash) (2.0.0)\n",
            "Requirement already satisfied: dash-table==5.0.0 in /usr/local/lib/python3.10/dist-packages (from dash) (5.0.0)\n",
            "Requirement already satisfied: importlib-metadata in /usr/local/lib/python3.10/dist-packages (from dash) (7.1.0)\n",
            "Requirement already satisfied: typing-extensions>=4.1.1 in /usr/local/lib/python3.10/dist-packages (from dash) (4.11.0)\n",
            "Requirement already satisfied: requests in /usr/local/lib/python3.10/dist-packages (from dash) (2.31.0)\n",
            "Requirement already satisfied: retrying in /usr/local/lib/python3.10/dist-packages (from dash) (1.3.4)\n",
            "Requirement already satisfied: nest-asyncio in /usr/local/lib/python3.10/dist-packages (from dash) (1.6.0)\n",
            "Requirement already satisfied: setuptools in /usr/local/lib/python3.10/dist-packages (from dash) (67.7.2)\n",
            "Requirement already satisfied: Jinja2>=3.0 in /usr/local/lib/python3.10/dist-packages (from Flask<3.1,>=1.0.4->dash) (3.1.3)\n",
            "Requirement already satisfied: itsdangerous>=2.0 in /usr/local/lib/python3.10/dist-packages (from Flask<3.1,>=1.0.4->dash) (2.1.2)\n",
            "Requirement already satisfied: click>=8.0 in /usr/local/lib/python3.10/dist-packages (from Flask<3.1,>=1.0.4->dash) (8.1.7)\n",
            "Requirement already satisfied: tenacity>=6.2.0 in /usr/local/lib/python3.10/dist-packages (from plotly>=5.0.0->dash) (8.2.3)\n",
            "Requirement already satisfied: packaging in /usr/local/lib/python3.10/dist-packages (from plotly>=5.0.0->dash) (24.0)\n",
            "Requirement already satisfied: MarkupSafe>=2.1.1 in /usr/local/lib/python3.10/dist-packages (from Werkzeug<3.1->dash) (2.1.5)\n",
            "Requirement already satisfied: zipp>=0.5 in /usr/local/lib/python3.10/dist-packages (from importlib-metadata->dash) (3.18.1)\n",
            "Requirement already satisfied: charset-normalizer<4,>=2 in /usr/local/lib/python3.10/dist-packages (from requests->dash) (3.3.2)\n",
            "Requirement already satisfied: idna<4,>=2.5 in /usr/local/lib/python3.10/dist-packages (from requests->dash) (3.6)\n",
            "Requirement already satisfied: urllib3<3,>=1.21.1 in /usr/local/lib/python3.10/dist-packages (from requests->dash) (2.0.7)\n",
            "Requirement already satisfied: certifi>=2017.4.17 in /usr/local/lib/python3.10/dist-packages (from requests->dash) (2024.2.2)\n",
            "Requirement already satisfied: six>=1.7.0 in /usr/local/lib/python3.10/dist-packages (from retrying->dash) (1.16.0)\n"
          ]
        }
      ]
    },
    {
      "cell_type": "markdown",
      "source": [
        "#Import necessary libraries"
      ],
      "metadata": {
        "id": "hN-hTFEqr5X1"
      }
    },
    {
      "cell_type": "code",
      "source": [
        "import dash\n",
        "import dash_core_components as dcc\n",
        "import dash_html_components as html\n",
        "from dash.dependencies import Input, Output\n",
        "import requests"
      ],
      "metadata": {
        "id": "ZVGDJEykr4vh"
      },
      "execution_count": 21,
      "outputs": []
    },
    {
      "cell_type": "markdown",
      "source": [
        "#Fetch data from the api"
      ],
      "metadata": {
        "id": "UsOOeddXsAEH"
      }
    },
    {
      "cell_type": "code",
      "source": [
        "url = \"https://covid-193.p.rapidapi.com/countries\"\n",
        "\n",
        "headers = {\n",
        "    \"X-RapidAPI-Key\": \"a78e86efd1msh3d4cf9ac53fcc1ap1897b3jsn6118fbd7b2e9\",\n",
        "    \"X-RapidAPI-Host\": \"covid-193.p.rapidapi.com\"\n",
        "}\n",
        "\n",
        "response = requests.get(url, headers=headers)\n",
        "data = response.json()['response']"
      ],
      "metadata": {
        "id": "-yHX0aXQr_mu"
      },
      "execution_count": 22,
      "outputs": []
    },
    {
      "cell_type": "markdown",
      "source": [
        "#Formatting data for dropdown options"
      ],
      "metadata": {
        "id": "pOHkeiogsKdh"
      }
    },
    {
      "cell_type": "code",
      "source": [
        "country_options = [{'label': country, 'value': country} for country in data]"
      ],
      "metadata": {
        "id": "1tazKGXssTsp"
      },
      "execution_count": 23,
      "outputs": []
    },
    {
      "cell_type": "markdown",
      "source": [
        "# Initialize Dash app"
      ],
      "metadata": {
        "id": "eYop1M-esXCV"
      }
    },
    {
      "cell_type": "code",
      "source": [
        "app = dash.Dash(__name__)"
      ],
      "metadata": {
        "id": "RPu4kMzcsbuZ"
      },
      "execution_count": 24,
      "outputs": []
    },
    {
      "cell_type": "markdown",
      "source": [
        "#Define Dashboard layout"
      ],
      "metadata": {
        "id": "7peWo64Zses4"
      }
    },
    {
      "cell_type": "code",
      "source": [
        "# Define app layout\n",
        "app.layout = html.Div([\n",
        "    html.H1(\"COVID-19 Dashboard\"),\n",
        "    dcc.Dropdown(\n",
        "        id='country-dropdown',\n",
        "        options=country_options,\n",
        "        value='World',  # Default value\n",
        "        style={'width': '50%'}\n",
        "    ),\n",
        "    html.Div(id='output-container'),\n",
        "])\n"
      ],
      "metadata": {
        "id": "0faV09mHrEJE"
      },
      "execution_count": 25,
      "outputs": []
    },
    {
      "cell_type": "markdown",
      "source": [
        "#Define callback to update output based on dropdown selection"
      ],
      "metadata": {
        "id": "HA2kXdvisroq"
      }
    },
    {
      "cell_type": "code",
      "source": [
        "# Define callback to update output based on dropdown selection\n",
        "@app.callback(\n",
        "    Output('output-container', 'children'),\n",
        "    [Input('country-dropdown', 'value')]\n",
        ")\n",
        "def update_output(selected_country):\n",
        "    if selected_country == 'World':\n",
        "        selected_country = 'all'  # API endpoint for global data\n",
        "    else:\n",
        "        selected_country = selected_country.lower()\n",
        "\n",
        "    url = f\"https://covid-193.p.rapidapi.com/statistics?country={selected_country}\"\n",
        "\n",
        "    response = requests.get(url, headers=headers)\n",
        "    data = response.json()['response'][0]\n",
        "\n",
        "    output_text = f\"\"\"\n",
        "        Total Cases: {data['cases']['total']}\n",
        "        New Cases: {data['cases']['new']}\n",
        "        Total Deaths: {data['deaths']['total']}\n",
        "        New Deaths: {data['deaths']['new']}\n",
        "        Total Tests: {data['tests']['total']}\n",
        "    \"\"\"\n",
        "\n",
        "    return html.Pre(output_text)\n",
        "\n",
        "if __name__ == '__main__':\n",
        "    app.run_server(debug=True)"
      ],
      "metadata": {
        "colab": {
          "base_uri": "https://localhost:8080/",
          "height": 671
        },
        "id": "CaXdCOxysprL",
        "outputId": "aa7af13d-e9a0-4bb9-8eac-7316a927110d"
      },
      "execution_count": 26,
      "outputs": [
        {
          "output_type": "display_data",
          "data": {
            "text/plain": [
              "<IPython.core.display.Javascript object>"
            ],
            "application/javascript": [
              "(async (port, path, width, height, cache, element) => {\n",
              "    if (!google.colab.kernel.accessAllowed && !cache) {\n",
              "      return;\n",
              "    }\n",
              "    element.appendChild(document.createTextNode(''));\n",
              "    const url = await google.colab.kernel.proxyPort(port, {cache});\n",
              "    const iframe = document.createElement('iframe');\n",
              "    iframe.src = new URL(path, url).toString();\n",
              "    iframe.height = height;\n",
              "    iframe.width = width;\n",
              "    iframe.style.border = 0;\n",
              "    iframe.allow = [\n",
              "        'accelerometer',\n",
              "        'autoplay',\n",
              "        'camera',\n",
              "        'clipboard-read',\n",
              "        'clipboard-write',\n",
              "        'gyroscope',\n",
              "        'magnetometer',\n",
              "        'microphone',\n",
              "        'serial',\n",
              "        'usb',\n",
              "        'xr-spatial-tracking',\n",
              "    ].join('; ');\n",
              "    element.appendChild(iframe);\n",
              "  })(8050, \"/\", \"100%\", 650, false, window.element)"
            ]
          },
          "metadata": {}
        }
      ]
    }
  ]
}